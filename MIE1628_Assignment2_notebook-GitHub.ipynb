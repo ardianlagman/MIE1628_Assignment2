{
 "cells": [
  {
   "cell_type": "code",
   "execution_count": 0,
   "metadata": {
    "application/vnd.databricks.v1+cell": {
     "inputWidgets": {},
     "nuid": "2a640f63-3827-4264-ade8-dc917872f0d3",
     "showTitle": false,
     "title": ""
    }
   },
   "outputs": [],
   "source": [
    "import pyspark\n",
    "from pyspark.sql.types import *\n",
    "from pyspark.sql.functions import *\n",
    "import org.apache.spark\n",
    "from pyspark.sql import SparkSession\n",
    "import pandas as pd\n",
    "from pyspark.sql import Row\n",
    "from pyspark.context import SparkContext\n",
    "import numpy as np\n",
    "\n",
    "import collections\n",
    "\n",
    "from collections import Counter\n",
    "\n",
    "import sklearn\n",
    "from sklearn.model_selection import train_test_split\n",
    "from sklearn.metrics.pairwise import cosine_similarity\n",
    "\n",
    "from pyspark.ml.recommendation import ALS\n",
    "from pyspark.ml.evaluation import RegressionEvaluator\n",
    "\n",
    "from pyspark.ml.tuning import ParamGridBuilder, CrossValidator, TrainValidationSplit\n"
   ]
  },
  {
   "cell_type": "markdown",
   "metadata": {
    "application/vnd.databricks.v1+cell": {
     "inputWidgets": {},
     "nuid": "016932f2-7722-4c23-9bd6-314958b2ef03",
     "showTitle": false,
     "title": ""
    }
   },
   "source": [
    "- Student name: Ardian Lagman\n",
    "- Student number: 1003060135"
   ]
  },
  {
   "cell_type": "code",
   "execution_count": 0,
   "metadata": {
    "application/vnd.databricks.v1+cell": {
     "inputWidgets": {},
     "nuid": "29a5b5d0-451a-4fd8-a47a-5ff0b9a4f3a7",
     "showTitle": false,
     "title": ""
    }
   },
   "outputs": [],
   "source": [
    "#pip install pyspark"
   ]
  },
  {
   "cell_type": "code",
   "execution_count": 0,
   "metadata": {
    "application/vnd.databricks.v1+cell": {
     "inputWidgets": {},
     "nuid": "94c08922-3bc8-4770-b1bd-5b657d6c4218",
     "showTitle": false,
     "title": ""
    }
   },
   "outputs": [],
   "source": [
    "spark = SparkSession.builder.appName(\"APS1052_HW2_SparkSession\").getOrCreate()"
   ]
  },
  {
   "cell_type": "markdown",
   "metadata": {
    "application/vnd.databricks.v1+cell": {
     "inputWidgets": {},
     "nuid": "eec07268-d9b9-4303-95a6-d9deefa7ce50",
     "showTitle": false,
     "title": ""
    }
   },
   "source": [
    "#Part A"
   ]
  },
  {
   "cell_type": "markdown",
   "metadata": {
    "application/vnd.databricks.v1+cell": {
     "inputWidgets": {},
     "nuid": "264137c8-cf43-47d3-a6c3-e01a38c3b9c0",
     "showTitle": false,
     "title": ""
    }
   },
   "source": [
    "## 1. Count the odd and even numbers using file 'integer.txt' download it from Quercus. show your code and output"
   ]
  },
  {
   "cell_type": "code",
   "execution_count": 0,
   "metadata": {
    "application/vnd.databricks.v1+cell": {
     "inputWidgets": {},
     "nuid": "01163494-23f2-497f-9267-1672bded49ae",
     "showTitle": false,
     "title": ""
    }
   },
   "outputs": [],
   "source": [
    "integerRDD = spark.sparkContext.textFile(\"/FileStore/tables/integer.txt\")"
   ]
  },
  {
   "cell_type": "code",
   "execution_count": 0,
   "metadata": {
    "application/vnd.databricks.v1+cell": {
     "inputWidgets": {},
     "nuid": "7c6de3ec-17a8-4a5c-956c-1c658e671c05",
     "showTitle": false,
     "title": ""
    }
   },
   "outputs": [],
   "source": [
    "raw_RDD = integerRDD.collect()"
   ]
  },
  {
   "cell_type": "code",
   "execution_count": 0,
   "metadata": {
    "application/vnd.databricks.v1+cell": {
     "inputWidgets": {},
     "nuid": "7cfc5655-022a-4dca-be09-6715b4e9c5f1",
     "showTitle": false,
     "title": ""
    }
   },
   "outputs": [
    {
     "data": {
      "text/plain": [
       "Out[6]: list"
      ]
     },
     "metadata": {
      "application/vnd.databricks.v1+output": {
       "addedWidgets": {},
       "arguments": {},
       "data": "Out[6]: list",
       "datasetInfos": [],
       "metadata": {},
       "removedWidgets": [],
       "type": "ansi"
      }
     },
     "output_type": "display_data",
     "transient": null
    }
   ],
   "source": [
    "type(raw_RDD)"
   ]
  },
  {
   "cell_type": "code",
   "execution_count": 0,
   "metadata": {
    "application/vnd.databricks.v1+cell": {
     "inputWidgets": {},
     "nuid": "527633d2-a0f6-4ec4-a352-d49f34445d7e",
     "showTitle": false,
     "title": ""
    }
   },
   "outputs": [
    {
     "data": {
      "text/plain": [
       "Out[7]: str"
      ]
     },
     "metadata": {
      "application/vnd.databricks.v1+output": {
       "addedWidgets": {},
       "arguments": {},
       "data": "Out[7]: str",
       "datasetInfos": [],
       "metadata": {},
       "removedWidgets": [],
       "type": "ansi"
      }
     },
     "output_type": "display_data",
     "transient": null
    }
   ],
   "source": [
    "type(raw_RDD[0])"
   ]
  },
  {
   "cell_type": "code",
   "execution_count": 0,
   "metadata": {
    "application/vnd.databricks.v1+cell": {
     "inputWidgets": {},
     "nuid": "40d68552-923f-4557-8f5c-bc85ba0defa7",
     "showTitle": false,
     "title": ""
    }
   },
   "outputs": [],
   "source": [
    "integer_array = np.array(raw_RDD)"
   ]
  },
  {
   "cell_type": "code",
   "execution_count": 0,
   "metadata": {
    "application/vnd.databricks.v1+cell": {
     "inputWidgets": {},
     "nuid": "1a5824d3-0d61-4b66-b2a0-9dbf9eecb415",
     "showTitle": false,
     "title": ""
    }
   },
   "outputs": [],
   "source": [
    "odd_counter = 0\n",
    "even_counter = 0\n",
    "\n",
    "for integer in integer_array:\n",
    "    if int(integer) % 2 == 0:\n",
    "        even_counter += 1\n",
    "    else:\n",
    "        odd_counter += 1"
   ]
  },
  {
   "cell_type": "code",
   "execution_count": 0,
   "metadata": {
    "application/vnd.databricks.v1+cell": {
     "inputWidgets": {},
     "nuid": "60232194-82d0-4fde-a72e-1f0149cb85d3",
     "showTitle": false,
     "title": ""
    }
   },
   "outputs": [
    {
     "data": {
      "text/plain": [
       "Out[10]: 496"
      ]
     },
     "metadata": {
      "application/vnd.databricks.v1+output": {
       "addedWidgets": {},
       "arguments": {},
       "data": "Out[10]: 496",
       "datasetInfos": [],
       "metadata": {},
       "removedWidgets": [],
       "type": "ansi"
      }
     },
     "output_type": "display_data",
     "transient": null
    }
   ],
   "source": [
    "odd_counter"
   ]
  },
  {
   "cell_type": "code",
   "execution_count": 0,
   "metadata": {
    "application/vnd.databricks.v1+cell": {
     "inputWidgets": {},
     "nuid": "b947036e-2534-4a9f-acb4-e29574ce7663",
     "showTitle": false,
     "title": ""
    }
   },
   "outputs": [
    {
     "data": {
      "text/plain": [
       "Out[11]: 514"
      ]
     },
     "metadata": {
      "application/vnd.databricks.v1+output": {
       "addedWidgets": {},
       "arguments": {},
       "data": "Out[11]: 514",
       "datasetInfos": [],
       "metadata": {},
       "removedWidgets": [],
       "type": "ansi"
      }
     },
     "output_type": "display_data",
     "transient": null
    }
   ],
   "source": [
    "even_counter"
   ]
  },
  {
   "cell_type": "markdown",
   "metadata": {
    "application/vnd.databricks.v1+cell": {
     "inputWidgets": {},
     "nuid": "96237167-cc85-4e36-8c10-8ce4aa83bb24",
     "showTitle": false,
     "title": ""
    }
   },
   "source": [
    "## 2. Calculate the salary sum per department using file 'salary.txt' download it from Quercus. Show department name and salary sum. Show your code and output"
   ]
  },
  {
   "cell_type": "code",
   "execution_count": 0,
   "metadata": {
    "application/vnd.databricks.v1+cell": {
     "inputWidgets": {},
     "nuid": "3b04dc52-386d-454e-8a92-aa6241e52598",
     "showTitle": false,
     "title": ""
    }
   },
   "outputs": [],
   "source": [
    "salaryRDD = spark.sparkContext.textFile(\"/FileStore/tables/salary.txt\")"
   ]
  },
  {
   "cell_type": "code",
   "execution_count": 0,
   "metadata": {
    "application/vnd.databricks.v1+cell": {
     "inputWidgets": {},
     "nuid": "21699b4e-c67f-4c27-9446-3ccc230d9514",
     "showTitle": false,
     "title": ""
    }
   },
   "outputs": [],
   "source": [
    "#salaryRDD.collect()"
   ]
  },
  {
   "cell_type": "code",
   "execution_count": 0,
   "metadata": {
    "application/vnd.databricks.v1+cell": {
     "inputWidgets": {},
     "nuid": "9e9cd4fd-5e57-411e-8506-0c8ef3831222",
     "showTitle": false,
     "title": ""
    }
   },
   "outputs": [],
   "source": [
    "splitSalaryRDD = [item.split(\" \") for item in salaryRDD.collect()]"
   ]
  },
  {
   "cell_type": "code",
   "execution_count": 0,
   "metadata": {
    "application/vnd.databricks.v1+cell": {
     "inputWidgets": {},
     "nuid": "9b35c27e-d514-43d5-b14d-37c21d548c66",
     "showTitle": false,
     "title": ""
    }
   },
   "outputs": [],
   "source": [
    "#splitSalaryRDD"
   ]
  },
  {
   "cell_type": "code",
   "execution_count": 0,
   "metadata": {
    "application/vnd.databricks.v1+cell": {
     "inputWidgets": {},
     "nuid": "9f649a90-9d38-4ba5-9938-807d620f6e2e",
     "showTitle": false,
     "title": ""
    }
   },
   "outputs": [],
   "source": [
    "salarySumDict = {}\n",
    "\n",
    "for item in splitSalaryRDD:\n",
    "    jobTitle = item[0]\n",
    "    jobSalary = int(item[1])\n",
    "    \n",
    "    if jobTitle in salarySumDict:\n",
    "        salarySumDict[jobTitle] += jobSalary\n",
    "    else:\n",
    "        salarySumDict[jobTitle] = jobSalary\n",
    "    "
   ]
  },
  {
   "cell_type": "code",
   "execution_count": 0,
   "metadata": {
    "application/vnd.databricks.v1+cell": {
     "inputWidgets": {},
     "nuid": "b3e892c6-b142-4e78-ac6c-3bef1a624ca6",
     "showTitle": false,
     "title": ""
    }
   },
   "outputs": [
    {
     "data": {
      "text/plain": [
       "Out[17]: {'Sales': 3488491,\n",
       " 'Research': 3328284,\n",
       " 'Developer': 3221394,\n",
       " 'QA': 3360624,\n",
       " 'Marketing': 3158450}"
      ]
     },
     "metadata": {
      "application/vnd.databricks.v1+output": {
       "addedWidgets": {},
       "arguments": {},
       "data": "Out[17]: {'Sales': 3488491,\n 'Research': 3328284,\n 'Developer': 3221394,\n 'QA': 3360624,\n 'Marketing': 3158450}",
       "datasetInfos": [],
       "metadata": {},
       "removedWidgets": [],
       "type": "ansi"
      }
     },
     "output_type": "display_data",
     "transient": null
    }
   ],
   "source": [
    "salarySumDict"
   ]
  },
  {
   "cell_type": "markdown",
   "metadata": {
    "application/vnd.databricks.v1+cell": {
     "inputWidgets": {},
     "nuid": "e8bb1b34-7615-40a0-9bd5-98cfc8cbe947",
     "showTitle": false,
     "title": ""
    }
   },
   "source": [
    "## 3. Implement MapReduce using Pyspark on file 'shakespeare.txt' download it from Quercus. Show how many times these particular words appear in the document: Shakespeare, When, Lord, Library, GUTENBERG, WILLIAM, COLLEGE, and WORLD"
   ]
  },
  {
   "cell_type": "code",
   "execution_count": 0,
   "metadata": {
    "application/vnd.databricks.v1+cell": {
     "inputWidgets": {},
     "nuid": "c7562db6-6246-404b-8267-c51124c47149",
     "showTitle": false,
     "title": ""
    }
   },
   "outputs": [],
   "source": [
    "shakespeareRDD = spark.sparkContext.textFile(\"/FileStore/tables/shakespeare_2.txt\")"
   ]
  },
  {
   "cell_type": "code",
   "execution_count": 0,
   "metadata": {
    "application/vnd.databricks.v1+cell": {
     "inputWidgets": {},
     "nuid": "32d322f9-c60b-4156-88c4-3ad7b24152aa",
     "showTitle": false,
     "title": ""
    }
   },
   "outputs": [],
   "source": [
    "#shakespeareRDD.collect()"
   ]
  },
  {
   "cell_type": "code",
   "execution_count": 0,
   "metadata": {
    "application/vnd.databricks.v1+cell": {
     "inputWidgets": {},
     "nuid": "0f442e1b-578d-4ec7-a6e8-4b717f116eeb",
     "showTitle": false,
     "title": ""
    }
   },
   "outputs": [],
   "source": [
    "stringList = [\"Shakespeare\", \"When\", \"Lord\", \"Library\", \"GUTENBERG\", \"WILLIAM\", \"COLLEGE\", \"WORLD\"]"
   ]
  },
  {
   "cell_type": "code",
   "execution_count": 0,
   "metadata": {
    "application/vnd.databricks.v1+cell": {
     "inputWidgets": {},
     "nuid": "407505fe-2014-44a2-9d90-61ee29b38f1a",
     "showTitle": false,
     "title": ""
    }
   },
   "outputs": [],
   "source": [
    "counts = shakespeareRDD.flatMap(lambda line: line.split(\" \")).map(lambda word: (word, 1)).reduceByKey(lambda x, y: x + y)"
   ]
  },
  {
   "cell_type": "code",
   "execution_count": 0,
   "metadata": {
    "application/vnd.databricks.v1+cell": {
     "inputWidgets": {},
     "nuid": "93d2ecdf-64b7-4bc1-901f-79e869f8e154",
     "showTitle": false,
     "title": ""
    }
   },
   "outputs": [
    {
     "data": {
      "text/plain": [
       "('Shakespeare', 22)\n",
       "('GUTENBERG', 99)\n",
       "('WILLIAM', 115)\n",
       "('WORLD', 98)\n",
       "('COLLEGE', 98)\n",
       "('When', 393)\n",
       "('Lord', 341)\n",
       "('Library', 2)\n"
      ]
     },
     "metadata": {
      "application/vnd.databricks.v1+output": {
       "addedWidgets": {},
       "arguments": {},
       "data": "('Shakespeare', 22)\n('GUTENBERG', 99)\n('WILLIAM', 115)\n('WORLD', 98)\n('COLLEGE', 98)\n('When', 393)\n('Lord', 341)\n('Library', 2)\n",
       "datasetInfos": [],
       "metadata": {},
       "removedWidgets": [],
       "type": "ansi"
      }
     },
     "output_type": "display_data",
     "transient": null
    }
   ],
   "source": [
    "for item in counts.collect():\n",
    "    if item[0] in stringList:\n",
    "        print(item)"
   ]
  },
  {
   "cell_type": "markdown",
   "metadata": {
    "application/vnd.databricks.v1+cell": {
     "inputWidgets": {},
     "nuid": "18fea0a9-5eba-4f3b-b091-eeb4a67e5ff6",
     "showTitle": false,
     "title": ""
    }
   },
   "source": [
    "## 4. Calculate the top 15 and bottom 15 words using file 'shakespeare.txt' download it from Quercus. Show 15 words with most count and 15 words with least count. You can limit by 15 in ascending and descending order of yoru count"
   ]
  },
  {
   "cell_type": "code",
   "execution_count": 0,
   "metadata": {
    "application/vnd.databricks.v1+cell": {
     "inputWidgets": {},
     "nuid": "859b75d3-85cc-478c-8982-8e4f534aa345",
     "showTitle": false,
     "title": ""
    }
   },
   "outputs": [],
   "source": [
    "rawShakespeareRDD = spark.sparkContext.textFile(\"/FileStore/tables/shakespeare_2.txt\")"
   ]
  },
  {
   "cell_type": "code",
   "execution_count": 0,
   "metadata": {
    "application/vnd.databricks.v1+cell": {
     "inputWidgets": {},
     "nuid": "5c56da35-801e-4a0c-84f8-fcdc56be6f01",
     "showTitle": false,
     "title": ""
    }
   },
   "outputs": [],
   "source": [
    "#rawShakespeareRDD.collect()"
   ]
  },
  {
   "cell_type": "code",
   "execution_count": 0,
   "metadata": {
    "application/vnd.databricks.v1+cell": {
     "inputWidgets": {},
     "nuid": "cbe4d7eb-1f7b-41c2-b6dd-1a587b97ce0d",
     "showTitle": false,
     "title": ""
    }
   },
   "outputs": [],
   "source": [
    "shakespeareArray = [item.split(\" \") for item in rawShakespeareRDD.collect()]"
   ]
  },
  {
   "cell_type": "code",
   "execution_count": 0,
   "metadata": {
    "application/vnd.databricks.v1+cell": {
     "inputWidgets": {},
     "nuid": "3e45e0d6-8dd8-4516-8855-9f5fb687016b",
     "showTitle": false,
     "title": ""
    }
   },
   "outputs": [],
   "source": [
    "#shakespeareArray"
   ]
  },
  {
   "cell_type": "code",
   "execution_count": 0,
   "metadata": {
    "application/vnd.databricks.v1+cell": {
     "inputWidgets": {},
     "nuid": "b017d5de-2ec5-484e-8b58-d82178618587",
     "showTitle": false,
     "title": ""
    }
   },
   "outputs": [],
   "source": [
    "counts = Counter()\n",
    "\n",
    "for line in shakespeareArray:\n",
    "    for word in line:\n",
    "        counts[word] += 1"
   ]
  },
  {
   "cell_type": "code",
   "execution_count": 0,
   "metadata": {
    "application/vnd.databricks.v1+cell": {
     "inputWidgets": {},
     "nuid": "8185ff35-95e7-4ad2-a4c7-de36d75f1a7d",
     "showTitle": false,
     "title": ""
    }
   },
   "outputs": [],
   "source": []
  },
  {
   "cell_type": "code",
   "execution_count": 0,
   "metadata": {
    "application/vnd.databricks.v1+cell": {
     "inputWidgets": {},
     "nuid": "6ea71a30-6f65-413a-8366-13c11793f958",
     "showTitle": false,
     "title": ""
    }
   },
   "outputs": [],
   "source": [
    "most_common = counts.most_common()[0:15]"
   ]
  },
  {
   "cell_type": "code",
   "execution_count": 0,
   "metadata": {
    "application/vnd.databricks.v1+cell": {
     "inputWidgets": {},
     "nuid": "8cc87544-3675-4399-90d1-078d01adb5d3",
     "showTitle": false,
     "title": ""
    }
   },
   "outputs": [
    {
     "data": {
      "text/plain": [
       "Out[80]: [('', 231583),\n",
       " ('the', 11397),\n",
       " ('and', 8777),\n",
       " ('I', 8556),\n",
       " ('of', 7873),\n",
       " ('to', 7421),\n",
       " ('a', 5672),\n",
       " ('my', 4913),\n",
       " ('in', 4600),\n",
       " ('you', 4060),\n",
       " ('And', 3547),\n",
       " ('that', 3522),\n",
       " ('is', 3481),\n",
       " ('his', 3226),\n",
       " ('with', 3175)]"
      ]
     },
     "metadata": {
      "application/vnd.databricks.v1+output": {
       "addedWidgets": {},
       "arguments": {},
       "data": "Out[80]: [('', 231583),\n ('the', 11397),\n ('and', 8777),\n ('I', 8556),\n ('of', 7873),\n ('to', 7421),\n ('a', 5672),\n ('my', 4913),\n ('in', 4600),\n ('you', 4060),\n ('And', 3547),\n ('that', 3522),\n ('is', 3481),\n ('his', 3226),\n ('with', 3175)]",
       "datasetInfos": [],
       "metadata": {},
       "removedWidgets": [],
       "type": "ansi"
      }
     },
     "output_type": "display_data",
     "transient": null
    }
   ],
   "source": [
    "most_common"
   ]
  },
  {
   "cell_type": "code",
   "execution_count": 0,
   "metadata": {
    "application/vnd.databricks.v1+cell": {
     "inputWidgets": {},
     "nuid": "07c8d497-3563-4af8-88a5-9d203b0a15ce",
     "showTitle": false,
     "title": ""
    }
   },
   "outputs": [],
   "source": [
    "least_common = counts.most_common()[-15:]"
   ]
  },
  {
   "cell_type": "code",
   "execution_count": 0,
   "metadata": {
    "application/vnd.databricks.v1+cell": {
     "inputWidgets": {},
     "nuid": "dc2f1ca0-bc52-4f70-8d85-302f238f0f0d",
     "showTitle": false,
     "title": ""
    }
   },
   "outputs": [
    {
     "data": {
      "text/plain": [
       "Out[31]: [('gives,', 1),\n",
       " ('seventy-five', 1),\n",
       " ('drachmas.', 1),\n",
       " ('arbors,', 1),\n",
       " ('new-planted', 1),\n",
       " ('orchards,', 1),\n",
       " ('Tiber;', 1),\n",
       " ('forever-', 1),\n",
       " ('recreate', 1),\n",
       " ('houses.', 1),\n",
       " ('benches.', 1),\n",
       " ('Mischief,', 1),\n",
       " ('Octavius.', 1),\n",
       " ('Cinna', 1),\n",
       " ('poet.', 1)]"
      ]
     },
     "metadata": {
      "application/vnd.databricks.v1+output": {
       "addedWidgets": {},
       "arguments": {},
       "data": "Out[31]: [('gives,', 1),\n ('seventy-five', 1),\n ('drachmas.', 1),\n ('arbors,', 1),\n ('new-planted', 1),\n ('orchards,', 1),\n ('Tiber;', 1),\n ('forever-', 1),\n ('recreate', 1),\n ('houses.', 1),\n ('benches.', 1),\n ('Mischief,', 1),\n ('Octavius.', 1),\n ('Cinna', 1),\n ('poet.', 1)]",
       "datasetInfos": [],
       "metadata": {},
       "removedWidgets": [],
       "type": "ansi"
      }
     },
     "output_type": "display_data",
     "transient": null
    }
   ],
   "source": [
    "least_common"
   ]
  },
  {
   "cell_type": "markdown",
   "metadata": {
    "application/vnd.databricks.v1+cell": {
     "inputWidgets": {},
     "nuid": "29690cfc-c7f6-45a7-987a-6845f33ef7c7",
     "showTitle": false,
     "title": ""
    }
   },
   "source": [
    "# Part B"
   ]
  },
  {
   "cell_type": "markdown",
   "metadata": {
    "application/vnd.databricks.v1+cell": {
     "inputWidgets": {},
     "nuid": "4623d70c-7281-4539-9b36-20d5aa9d8b65",
     "showTitle": false,
     "title": ""
    }
   },
   "source": [
    "## 1. Describe your data. Calculate top 10 movies with the highest ratings and top 10 uers who provide highest ratings"
   ]
  },
  {
   "cell_type": "code",
   "execution_count": 0,
   "metadata": {
    "application/vnd.databricks.v1+cell": {
     "inputWidgets": {},
     "nuid": "d048331c-f0bb-4728-8bf0-508c23abe72b",
     "showTitle": false,
     "title": ""
    }
   },
   "outputs": [],
   "source": [
    "movies = spark.read.csv('/FileStore/tables/movies.csv', sep = \",\", inferSchema = True, header = True)"
   ]
  },
  {
   "cell_type": "code",
   "execution_count": 0,
   "metadata": {
    "application/vnd.databricks.v1+cell": {
     "inputWidgets": {},
     "nuid": "866f4005-97e7-4c52-a666-ec493848ab92",
     "showTitle": false,
     "title": ""
    }
   },
   "outputs": [],
   "source": [
    "df_movies = movies.toPandas()"
   ]
  },
  {
   "cell_type": "code",
   "execution_count": 0,
   "metadata": {
    "application/vnd.databricks.v1+cell": {
     "inputWidgets": {},
     "nuid": "6ab69dbd-ce7f-4e06-b6b2-b0183ca614d6",
     "showTitle": false,
     "title": ""
    }
   },
   "outputs": [
    {
     "data": {
      "text/plain": [
       "Out[34]: (1501, 3)"
      ]
     },
     "metadata": {
      "application/vnd.databricks.v1+output": {
       "addedWidgets": {},
       "arguments": {},
       "data": "Out[34]: (1501, 3)",
       "datasetInfos": [],
       "metadata": {},
       "removedWidgets": [],
       "type": "ansi"
      }
     },
     "output_type": "display_data",
     "transient": null
    }
   ],
   "source": [
    "df_movies.shape"
   ]
  },
  {
   "cell_type": "code",
   "execution_count": 0,
   "metadata": {
    "application/vnd.databricks.v1+cell": {
     "inputWidgets": {},
     "nuid": "0359a7bf-8809-49ea-bae6-89e304016020",
     "showTitle": false,
     "title": ""
    }
   },
   "outputs": [
    {
     "data": {
      "text/html": [
       "<div>\n",
       "<style scoped>\n",
       "    .dataframe tbody tr th:only-of-type {\n",
       "        vertical-align: middle;\n",
       "    }\n",
       "\n",
       "    .dataframe tbody tr th {\n",
       "        vertical-align: top;\n",
       "    }\n",
       "\n",
       "    .dataframe thead th {\n",
       "        text-align: right;\n",
       "    }\n",
       "</style>\n",
       "<table border=\"1\" class=\"dataframe\">\n",
       "  <thead>\n",
       "    <tr style=\"text-align: right;\">\n",
       "      <th></th>\n",
       "      <th>movieId</th>\n",
       "      <th>rating</th>\n",
       "      <th>userId</th>\n",
       "    </tr>\n",
       "  </thead>\n",
       "  <tbody>\n",
       "    <tr>\n",
       "      <th>0</th>\n",
       "      <td>2</td>\n",
       "      <td>3</td>\n",
       "      <td>0</td>\n",
       "    </tr>\n",
       "    <tr>\n",
       "      <th>1</th>\n",
       "      <td>3</td>\n",
       "      <td>1</td>\n",
       "      <td>0</td>\n",
       "    </tr>\n",
       "    <tr>\n",
       "      <th>2</th>\n",
       "      <td>5</td>\n",
       "      <td>2</td>\n",
       "      <td>0</td>\n",
       "    </tr>\n",
       "    <tr>\n",
       "      <th>3</th>\n",
       "      <td>9</td>\n",
       "      <td>4</td>\n",
       "      <td>0</td>\n",
       "    </tr>\n",
       "    <tr>\n",
       "      <th>4</th>\n",
       "      <td>11</td>\n",
       "      <td>1</td>\n",
       "      <td>0</td>\n",
       "    </tr>\n",
       "  </tbody>\n",
       "</table>\n",
       "</div>"
      ]
     },
     "metadata": {
      "application/vnd.databricks.v1+output": {
       "addedWidgets": {},
       "arguments": {},
       "data": "<div>\n<style scoped>\n    .dataframe tbody tr th:only-of-type {\n        vertical-align: middle;\n    }\n\n    .dataframe tbody tr th {\n        vertical-align: top;\n    }\n\n    .dataframe thead th {\n        text-align: right;\n    }\n</style>\n<table border=\"1\" class=\"dataframe\">\n  <thead>\n    <tr style=\"text-align: right;\">\n      <th></th>\n      <th>movieId</th>\n      <th>rating</th>\n      <th>userId</th>\n    </tr>\n  </thead>\n  <tbody>\n    <tr>\n      <th>0</th>\n      <td>2</td>\n      <td>3</td>\n      <td>0</td>\n    </tr>\n    <tr>\n      <th>1</th>\n      <td>3</td>\n      <td>1</td>\n      <td>0</td>\n    </tr>\n    <tr>\n      <th>2</th>\n      <td>5</td>\n      <td>2</td>\n      <td>0</td>\n    </tr>\n    <tr>\n      <th>3</th>\n      <td>9</td>\n      <td>4</td>\n      <td>0</td>\n    </tr>\n    <tr>\n      <th>4</th>\n      <td>11</td>\n      <td>1</td>\n      <td>0</td>\n    </tr>\n  </tbody>\n</table>\n</div>",
       "datasetInfos": [],
       "metadata": {},
       "removedWidgets": [],
       "textData": null,
       "type": "htmlSandbox"
      }
     },
     "output_type": "display_data",
     "transient": null
    }
   ],
   "source": [
    "df_movies.head()"
   ]
  },
  {
   "cell_type": "code",
   "execution_count": 0,
   "metadata": {
    "application/vnd.databricks.v1+cell": {
     "inputWidgets": {},
     "nuid": "2393b9bc-df65-4900-a5f7-0251558d47d6",
     "showTitle": false,
     "title": ""
    }
   },
   "outputs": [
    {
     "data": {
      "text/html": [
       "<div>\n",
       "<style scoped>\n",
       "    .dataframe tbody tr th:only-of-type {\n",
       "        vertical-align: middle;\n",
       "    }\n",
       "\n",
       "    .dataframe tbody tr th {\n",
       "        vertical-align: top;\n",
       "    }\n",
       "\n",
       "    .dataframe thead th {\n",
       "        text-align: right;\n",
       "    }\n",
       "</style>\n",
       "<table border=\"1\" class=\"dataframe\">\n",
       "  <thead>\n",
       "    <tr style=\"text-align: right;\">\n",
       "      <th></th>\n",
       "      <th>movieId</th>\n",
       "      <th>rating</th>\n",
       "      <th>userId</th>\n",
       "    </tr>\n",
       "  </thead>\n",
       "  <tbody>\n",
       "    <tr>\n",
       "      <th>143</th>\n",
       "      <td>93</td>\n",
       "      <td>5</td>\n",
       "      <td>2</td>\n",
       "    </tr>\n",
       "    <tr>\n",
       "      <th>1145</th>\n",
       "      <td>75</td>\n",
       "      <td>5</td>\n",
       "      <td>22</td>\n",
       "    </tr>\n",
       "    <tr>\n",
       "      <th>561</th>\n",
       "      <td>18</td>\n",
       "      <td>5</td>\n",
       "      <td>11</td>\n",
       "    </tr>\n",
       "    <tr>\n",
       "      <th>566</th>\n",
       "      <td>23</td>\n",
       "      <td>5</td>\n",
       "      <td>11</td>\n",
       "    </tr>\n",
       "    <tr>\n",
       "      <th>568</th>\n",
       "      <td>27</td>\n",
       "      <td>5</td>\n",
       "      <td>11</td>\n",
       "    </tr>\n",
       "    <tr>\n",
       "      <th>569</th>\n",
       "      <td>30</td>\n",
       "      <td>5</td>\n",
       "      <td>11</td>\n",
       "    </tr>\n",
       "    <tr>\n",
       "      <th>570</th>\n",
       "      <td>32</td>\n",
       "      <td>5</td>\n",
       "      <td>11</td>\n",
       "    </tr>\n",
       "    <tr>\n",
       "      <th>1131</th>\n",
       "      <td>51</td>\n",
       "      <td>5</td>\n",
       "      <td>22</td>\n",
       "    </tr>\n",
       "    <tr>\n",
       "      <th>581</th>\n",
       "      <td>48</td>\n",
       "      <td>5</td>\n",
       "      <td>11</td>\n",
       "    </tr>\n",
       "    <tr>\n",
       "      <th>1411</th>\n",
       "      <td>12</td>\n",
       "      <td>5</td>\n",
       "      <td>28</td>\n",
       "    </tr>\n",
       "  </tbody>\n",
       "</table>\n",
       "</div>"
      ]
     },
     "metadata": {
      "application/vnd.databricks.v1+output": {
       "addedWidgets": {},
       "arguments": {},
       "data": "<div>\n<style scoped>\n    .dataframe tbody tr th:only-of-type {\n        vertical-align: middle;\n    }\n\n    .dataframe tbody tr th {\n        vertical-align: top;\n    }\n\n    .dataframe thead th {\n        text-align: right;\n    }\n</style>\n<table border=\"1\" class=\"dataframe\">\n  <thead>\n    <tr style=\"text-align: right;\">\n      <th></th>\n      <th>movieId</th>\n      <th>rating</th>\n      <th>userId</th>\n    </tr>\n  </thead>\n  <tbody>\n    <tr>\n      <th>143</th>\n      <td>93</td>\n      <td>5</td>\n      <td>2</td>\n    </tr>\n    <tr>\n      <th>1145</th>\n      <td>75</td>\n      <td>5</td>\n      <td>22</td>\n    </tr>\n    <tr>\n      <th>561</th>\n      <td>18</td>\n      <td>5</td>\n      <td>11</td>\n    </tr>\n    <tr>\n      <th>566</th>\n      <td>23</td>\n      <td>5</td>\n      <td>11</td>\n    </tr>\n    <tr>\n      <th>568</th>\n      <td>27</td>\n      <td>5</td>\n      <td>11</td>\n    </tr>\n    <tr>\n      <th>569</th>\n      <td>30</td>\n      <td>5</td>\n      <td>11</td>\n    </tr>\n    <tr>\n      <th>570</th>\n      <td>32</td>\n      <td>5</td>\n      <td>11</td>\n    </tr>\n    <tr>\n      <th>1131</th>\n      <td>51</td>\n      <td>5</td>\n      <td>22</td>\n    </tr>\n    <tr>\n      <th>581</th>\n      <td>48</td>\n      <td>5</td>\n      <td>11</td>\n    </tr>\n    <tr>\n      <th>1411</th>\n      <td>12</td>\n      <td>5</td>\n      <td>28</td>\n    </tr>\n  </tbody>\n</table>\n</div>",
       "datasetInfos": [],
       "metadata": {},
       "removedWidgets": [],
       "textData": null,
       "type": "htmlSandbox"
      }
     },
     "output_type": "display_data",
     "transient": null
    }
   ],
   "source": [
    "df_movies.sort_values(['rating'], ascending = False).head(10)"
   ]
  },
  {
   "cell_type": "markdown",
   "metadata": {
    "application/vnd.databricks.v1+cell": {
     "inputWidgets": {},
     "nuid": "dc083791-9a9e-4aa9-9524-d8fb85755540",
     "showTitle": false,
     "title": ""
    }
   },
   "source": [
    "Comments\n",
    "- top 10 movies are with the id's as shown"
   ]
  },
  {
   "cell_type": "code",
   "execution_count": 0,
   "metadata": {
    "application/vnd.databricks.v1+cell": {
     "inputWidgets": {},
     "nuid": "2d10f743-780c-4b39-9950-6e5c712121d0",
     "showTitle": false,
     "title": ""
    }
   },
   "outputs": [
    {
     "data": {
      "text/plain": [
       "Out[37]: 14    57\n",
       "6     57\n",
       "22    56\n",
       "11    56\n",
       "4     55\n",
       "12    55\n",
       "7     54\n",
       "9     53\n",
       "24    52\n",
       "23    52\n",
       "18    52\n",
       "28    50\n",
       "19    49\n",
       "8     49\n",
       "5     49\n",
       "26    49\n",
       "1     49\n",
       "0     49\n",
       "21    48\n",
       "15    48\n",
       "13    48\n",
       "3     48\n",
       "20    47\n",
       "17    46\n",
       "25    46\n",
       "27    46\n",
       "2     46\n",
       "29    46\n",
       "16    45\n",
       "10    44\n",
       "Name: userId, dtype: int64"
      ]
     },
     "metadata": {
      "application/vnd.databricks.v1+output": {
       "addedWidgets": {},
       "arguments": {},
       "data": "Out[37]: 14    57\n6     57\n22    56\n11    56\n4     55\n12    55\n7     54\n9     53\n24    52\n23    52\n18    52\n28    50\n19    49\n8     49\n5     49\n26    49\n1     49\n0     49\n21    48\n15    48\n13    48\n3     48\n20    47\n17    46\n25    46\n27    46\n2     46\n29    46\n16    45\n10    44\nName: userId, dtype: int64",
       "datasetInfos": [],
       "metadata": {},
       "removedWidgets": [],
       "type": "ansi"
      }
     },
     "output_type": "display_data",
     "transient": null
    }
   ],
   "source": [
    "df_movies.sort_values(['rating', 'userId'], ascending = False).userId.value_counts()"
   ]
  },
  {
   "cell_type": "markdown",
   "metadata": {
    "application/vnd.databricks.v1+cell": {
     "inputWidgets": {},
     "nuid": "136b0e8c-ab49-42f9-a15f-f105ea7889cf",
     "showTitle": false,
     "title": ""
    }
   },
   "source": [
    "top ten users are as follows:\n",
    "- 6\n",
    "- 22\n",
    "- 11\n",
    "- 4\n",
    "- 12\n",
    "- 7\n",
    "- 9\n",
    "- 24\n",
    "- 23\n",
    "- 18"
   ]
  },
  {
   "cell_type": "markdown",
   "metadata": {
    "application/vnd.databricks.v1+cell": {
     "inputWidgets": {},
     "nuid": "8396590c-ff65-4e2e-b96f-76615b65b135",
     "showTitle": false,
     "title": ""
    }
   },
   "source": [
    "Notes\n",
    "- need to convert the dataframe where the individual row indexes are the movie ID's \n",
    "- Each row needs to be specific ratings\n",
    "- the columns are specific users\n",
    "- My plan is to initialize an empty numpy array and start filling out each individual row (movie) with each individual viewer rating (column)"
   ]
  },
  {
   "cell_type": "code",
   "execution_count": 0,
   "metadata": {
    "application/vnd.databricks.v1+cell": {
     "inputWidgets": {},
     "nuid": "bc8641b1-c1dc-4ec5-b5a0-eaddad97ba93",
     "showTitle": false,
     "title": ""
    }
   },
   "outputs": [
    {
     "data": {
      "text/plain": [
       "Out[38]: array([ 2,  3,  5,  9, 11, 12, 15, 17, 19, 21, 23, 26, 27, 28, 29, 30, 31,\n",
       "       34, 37, 41, 44, 45, 46, 47, 48, 50, 51, 54, 55, 59, 61, 64, 67, 68,\n",
       "       69, 71, 72, 77, 79, 83, 87, 89, 91, 92, 94, 95, 96, 98, 99,  4,  6,\n",
       "       13, 14, 16, 33, 36, 40, 43, 56, 57, 58, 60, 62, 63, 70, 73, 74, 76,\n",
       "       78, 81, 82, 85, 86, 88, 93, 97,  8, 10, 18, 22, 35, 38, 39, 52, 65,\n",
       "       66, 80, 90,  0,  1,  7, 24, 84, 20, 49, 42, 25, 53, 75, 32],\n",
       "      dtype=int32)"
      ]
     },
     "metadata": {
      "application/vnd.databricks.v1+output": {
       "addedWidgets": {},
       "arguments": {},
       "data": "Out[38]: array([ 2,  3,  5,  9, 11, 12, 15, 17, 19, 21, 23, 26, 27, 28, 29, 30, 31,\n       34, 37, 41, 44, 45, 46, 47, 48, 50, 51, 54, 55, 59, 61, 64, 67, 68,\n       69, 71, 72, 77, 79, 83, 87, 89, 91, 92, 94, 95, 96, 98, 99,  4,  6,\n       13, 14, 16, 33, 36, 40, 43, 56, 57, 58, 60, 62, 63, 70, 73, 74, 76,\n       78, 81, 82, 85, 86, 88, 93, 97,  8, 10, 18, 22, 35, 38, 39, 52, 65,\n       66, 80, 90,  0,  1,  7, 24, 84, 20, 49, 42, 25, 53, 75, 32],\n      dtype=int32)",
       "datasetInfos": [],
       "metadata": {},
       "removedWidgets": [],
       "type": "ansi"
      }
     },
     "output_type": "display_data",
     "transient": null
    }
   ],
   "source": [
    "df_movies['movieId'].unique()"
   ]
  },
  {
   "cell_type": "code",
   "execution_count": 0,
   "metadata": {
    "application/vnd.databricks.v1+cell": {
     "inputWidgets": {},
     "nuid": "ac9c38ed-959a-4321-b3ae-da371c8787ea",
     "showTitle": false,
     "title": ""
    }
   },
   "outputs": [
    {
     "data": {
      "text/plain": [
       "Out[39]: 100"
      ]
     },
     "metadata": {
      "application/vnd.databricks.v1+output": {
       "addedWidgets": {},
       "arguments": {},
       "data": "Out[39]: 100",
       "datasetInfos": [],
       "metadata": {},
       "removedWidgets": [],
       "type": "ansi"
      }
     },
     "output_type": "display_data",
     "transient": null
    }
   ],
   "source": [
    "len(df_movies['movieId'].unique())"
   ]
  },
  {
   "cell_type": "code",
   "execution_count": 0,
   "metadata": {
    "application/vnd.databricks.v1+cell": {
     "inputWidgets": {},
     "nuid": "187820a5-d560-48e4-9694-61d31d9f5a11",
     "showTitle": false,
     "title": ""
    }
   },
   "outputs": [
    {
     "data": {
      "text/plain": [
       "Out[40]: array([ 0,  1,  2,  3,  4,  5,  6,  7,  8,  9, 10, 11, 12, 13, 14, 15, 16,\n",
       "       17, 18, 19, 20, 21, 22, 23, 24, 25, 26, 27, 28, 29], dtype=int32)"
      ]
     },
     "metadata": {
      "application/vnd.databricks.v1+output": {
       "addedWidgets": {},
       "arguments": {},
       "data": "Out[40]: array([ 0,  1,  2,  3,  4,  5,  6,  7,  8,  9, 10, 11, 12, 13, 14, 15, 16,\n       17, 18, 19, 20, 21, 22, 23, 24, 25, 26, 27, 28, 29], dtype=int32)",
       "datasetInfos": [],
       "metadata": {},
       "removedWidgets": [],
       "type": "ansi"
      }
     },
     "output_type": "display_data",
     "transient": null
    }
   ],
   "source": [
    "df_movies['userId'].unique()"
   ]
  },
  {
   "cell_type": "code",
   "execution_count": 0,
   "metadata": {
    "application/vnd.databricks.v1+cell": {
     "inputWidgets": {},
     "nuid": "0e3bd6a4-0360-4fb9-a723-c92429b88c2a",
     "showTitle": false,
     "title": ""
    }
   },
   "outputs": [
    {
     "data": {
      "text/plain": [
       "Out[41]: array([3, 1, 2, 4, 5], dtype=int32)"
      ]
     },
     "metadata": {
      "application/vnd.databricks.v1+output": {
       "addedWidgets": {},
       "arguments": {},
       "data": "Out[41]: array([3, 1, 2, 4, 5], dtype=int32)",
       "datasetInfos": [],
       "metadata": {},
       "removedWidgets": [],
       "type": "ansi"
      }
     },
     "output_type": "display_data",
     "transient": null
    }
   ],
   "source": [
    "df_movies['rating'].unique()"
   ]
  },
  {
   "cell_type": "code",
   "execution_count": 0,
   "metadata": {
    "application/vnd.databricks.v1+cell": {
     "inputWidgets": {},
     "nuid": "56810100-a005-4b9f-a18b-6070f31fcc05",
     "showTitle": false,
     "title": ""
    }
   },
   "outputs": [
    {
     "data": {
      "text/plain": [
       "Out[42]: 30"
      ]
     },
     "metadata": {
      "application/vnd.databricks.v1+output": {
       "addedWidgets": {},
       "arguments": {},
       "data": "Out[42]: 30",
       "datasetInfos": [],
       "metadata": {},
       "removedWidgets": [],
       "type": "ansi"
      }
     },
     "output_type": "display_data",
     "transient": null
    }
   ],
   "source": [
    "len(df_movies['userId'].unique())"
   ]
  },
  {
   "cell_type": "code",
   "execution_count": 0,
   "metadata": {
    "application/vnd.databricks.v1+cell": {
     "inputWidgets": {},
     "nuid": "e233802c-2aaa-48e8-bf5a-9408be1f1142",
     "showTitle": false,
     "title": ""
    }
   },
   "outputs": [
    {
     "data": {
      "text/html": [
       "<div>\n",
       "<style scoped>\n",
       "    .dataframe tbody tr th:only-of-type {\n",
       "        vertical-align: middle;\n",
       "    }\n",
       "\n",
       "    .dataframe tbody tr th {\n",
       "        vertical-align: top;\n",
       "    }\n",
       "\n",
       "    .dataframe thead th {\n",
       "        text-align: right;\n",
       "    }\n",
       "</style>\n",
       "<table border=\"1\" class=\"dataframe\">\n",
       "  <thead>\n",
       "    <tr style=\"text-align: right;\">\n",
       "      <th></th>\n",
       "      <th>movieId</th>\n",
       "      <th>rating</th>\n",
       "      <th>userId</th>\n",
       "    </tr>\n",
       "  </thead>\n",
       "  <tbody>\n",
       "    <tr>\n",
       "      <th>145</th>\n",
       "      <td>1</td>\n",
       "      <td>1</td>\n",
       "      <td>3</td>\n",
       "    </tr>\n",
       "    <tr>\n",
       "      <th>192</th>\n",
       "      <td>1</td>\n",
       "      <td>1</td>\n",
       "      <td>4</td>\n",
       "    </tr>\n",
       "    <tr>\n",
       "      <th>248</th>\n",
       "      <td>1</td>\n",
       "      <td>1</td>\n",
       "      <td>5</td>\n",
       "    </tr>\n",
       "    <tr>\n",
       "      <th>297</th>\n",
       "      <td>1</td>\n",
       "      <td>1</td>\n",
       "      <td>6</td>\n",
       "    </tr>\n",
       "    <tr>\n",
       "      <th>353</th>\n",
       "      <td>1</td>\n",
       "      <td>1</td>\n",
       "      <td>7</td>\n",
       "    </tr>\n",
       "    <tr>\n",
       "      <th>712</th>\n",
       "      <td>1</td>\n",
       "      <td>1</td>\n",
       "      <td>14</td>\n",
       "    </tr>\n",
       "    <tr>\n",
       "      <th>770</th>\n",
       "      <td>1</td>\n",
       "      <td>4</td>\n",
       "      <td>15</td>\n",
       "    </tr>\n",
       "    <tr>\n",
       "      <th>908</th>\n",
       "      <td>1</td>\n",
       "      <td>1</td>\n",
       "      <td>18</td>\n",
       "    </tr>\n",
       "    <tr>\n",
       "      <th>961</th>\n",
       "      <td>1</td>\n",
       "      <td>1</td>\n",
       "      <td>19</td>\n",
       "    </tr>\n",
       "    <tr>\n",
       "      <th>1010</th>\n",
       "      <td>1</td>\n",
       "      <td>1</td>\n",
       "      <td>20</td>\n",
       "    </tr>\n",
       "    <tr>\n",
       "      <th>1264</th>\n",
       "      <td>1</td>\n",
       "      <td>3</td>\n",
       "      <td>25</td>\n",
       "    </tr>\n",
       "    <tr>\n",
       "      <th>1311</th>\n",
       "      <td>1</td>\n",
       "      <td>1</td>\n",
       "      <td>26</td>\n",
       "    </tr>\n",
       "    <tr>\n",
       "      <th>1406</th>\n",
       "      <td>1</td>\n",
       "      <td>1</td>\n",
       "      <td>28</td>\n",
       "    </tr>\n",
       "  </tbody>\n",
       "</table>\n",
       "</div>"
      ]
     },
     "metadata": {
      "application/vnd.databricks.v1+output": {
       "addedWidgets": {},
       "arguments": {},
       "data": "<div>\n<style scoped>\n    .dataframe tbody tr th:only-of-type {\n        vertical-align: middle;\n    }\n\n    .dataframe tbody tr th {\n        vertical-align: top;\n    }\n\n    .dataframe thead th {\n        text-align: right;\n    }\n</style>\n<table border=\"1\" class=\"dataframe\">\n  <thead>\n    <tr style=\"text-align: right;\">\n      <th></th>\n      <th>movieId</th>\n      <th>rating</th>\n      <th>userId</th>\n    </tr>\n  </thead>\n  <tbody>\n    <tr>\n      <th>145</th>\n      <td>1</td>\n      <td>1</td>\n      <td>3</td>\n    </tr>\n    <tr>\n      <th>192</th>\n      <td>1</td>\n      <td>1</td>\n      <td>4</td>\n    </tr>\n    <tr>\n      <th>248</th>\n      <td>1</td>\n      <td>1</td>\n      <td>5</td>\n    </tr>\n    <tr>\n      <th>297</th>\n      <td>1</td>\n      <td>1</td>\n      <td>6</td>\n    </tr>\n    <tr>\n      <th>353</th>\n      <td>1</td>\n      <td>1</td>\n      <td>7</td>\n    </tr>\n    <tr>\n      <th>712</th>\n      <td>1</td>\n      <td>1</td>\n      <td>14</td>\n    </tr>\n    <tr>\n      <th>770</th>\n      <td>1</td>\n      <td>4</td>\n      <td>15</td>\n    </tr>\n    <tr>\n      <th>908</th>\n      <td>1</td>\n      <td>1</td>\n      <td>18</td>\n    </tr>\n    <tr>\n      <th>961</th>\n      <td>1</td>\n      <td>1</td>\n      <td>19</td>\n    </tr>\n    <tr>\n      <th>1010</th>\n      <td>1</td>\n      <td>1</td>\n      <td>20</td>\n    </tr>\n    <tr>\n      <th>1264</th>\n      <td>1</td>\n      <td>3</td>\n      <td>25</td>\n    </tr>\n    <tr>\n      <th>1311</th>\n      <td>1</td>\n      <td>1</td>\n      <td>26</td>\n    </tr>\n    <tr>\n      <th>1406</th>\n      <td>1</td>\n      <td>1</td>\n      <td>28</td>\n    </tr>\n  </tbody>\n</table>\n</div>",
       "datasetInfos": [],
       "metadata": {},
       "removedWidgets": [],
       "textData": null,
       "type": "htmlSandbox"
      }
     },
     "output_type": "display_data",
     "transient": null
    }
   ],
   "source": [
    "df_movies.loc[df_movies['movieId'] == 1]"
   ]
  },
  {
   "cell_type": "markdown",
   "metadata": {
    "application/vnd.databricks.v1+cell": {
     "inputWidgets": {},
     "nuid": "8d5facc9-5d21-4270-b14b-484bc9ffe328",
     "showTitle": false,
     "title": ""
    }
   },
   "source": [
    "## 2. Split the dataset into train and test. Try 2 different combinations"
   ]
  },
  {
   "cell_type": "code",
   "execution_count": 0,
   "metadata": {
    "application/vnd.databricks.v1+cell": {
     "inputWidgets": {},
     "nuid": "9d08da6d-6c4b-477a-acda-d70572408980",
     "showTitle": false,
     "title": ""
    }
   },
   "outputs": [],
   "source": [
    "#Splititng data to 80/20 and 70/30\n",
    "train80, test20 = movies.randomSplit([0.8, 0.2])\n",
    "train70, test30 = movies.randomSplit([0.7, 0.3])"
   ]
  },
  {
   "cell_type": "code",
   "execution_count": 0,
   "metadata": {
    "application/vnd.databricks.v1+cell": {
     "inputWidgets": {},
     "nuid": "83178a42-d103-439e-b585-39913fe49d7e",
     "showTitle": false,
     "title": ""
    }
   },
   "outputs": [],
   "source": [
    "als70 = ALS(userCol=\"userId\", itemCol = 'movieId', ratingCol = 'rating', coldStartStrategy = \"drop\")"
   ]
  },
  {
   "cell_type": "code",
   "execution_count": 0,
   "metadata": {
    "application/vnd.databricks.v1+cell": {
     "inputWidgets": {},
     "nuid": "7d9b38da-6d52-4ebd-a221-bdd48fdec396",
     "showTitle": false,
     "title": ""
    }
   },
   "outputs": [],
   "source": [
    "als80 = ALS(userCol=\"userId\", itemCol = 'movieId', ratingCol = 'rating', coldStartStrategy = \"drop\")"
   ]
  },
  {
   "cell_type": "markdown",
   "metadata": {
    "application/vnd.databricks.v1+cell": {
     "inputWidgets": {},
     "nuid": "4eb7faf8-7fc7-4392-8443-09cff17ba4ce",
     "showTitle": false,
     "title": ""
    }
   },
   "source": [
    "## 3. Explain MSE, RMSE, and MAE"
   ]
  },
  {
   "cell_type": "markdown",
   "metadata": {
    "application/vnd.databricks.v1+cell": {
     "inputWidgets": {},
     "nuid": "eef98376-0314-41c7-a399-0ee1415350a7",
     "showTitle": false,
     "title": ""
    }
   },
   "source": [
    "- MSE is using the Mean Squared Error, where where we find the average of the square of the errors between the prediction and the true label\n",
    "- RMSE is the Root Mean Squared Error, where it is like MSE except we also find the square root of it all\n",
    "- MAE is the mean absolute error, where we find the absolute error of all the predictions and true labels and find the mean of that value"
   ]
  },
  {
   "cell_type": "code",
   "execution_count": 0,
   "metadata": {
    "application/vnd.databricks.v1+cell": {
     "inputWidgets": {},
     "nuid": "c7f821d5-3488-4851-8076-f01c53bffb75",
     "showTitle": false,
     "title": ""
    }
   },
   "outputs": [],
   "source": [
    "evalMSE = RegressionEvaluator(\n",
    "    metricName = 'mse',\n",
    "    labelCol = \"rating\",\n",
    "    predictionCol = \"prediction\"\n",
    ")"
   ]
  },
  {
   "cell_type": "code",
   "execution_count": 0,
   "metadata": {
    "application/vnd.databricks.v1+cell": {
     "inputWidgets": {},
     "nuid": "9013797b-1057-4269-a17b-664933eda0e8",
     "showTitle": false,
     "title": ""
    }
   },
   "outputs": [],
   "source": [
    "evalRMSE = RegressionEvaluator(\n",
    "    metricName = 'rmse',\n",
    "    labelCol = 'rating',\n",
    "    predictionCol = 'prediction'\n",
    ")"
   ]
  },
  {
   "cell_type": "code",
   "execution_count": 0,
   "metadata": {
    "application/vnd.databricks.v1+cell": {
     "inputWidgets": {},
     "nuid": "b9f51bc3-d192-481c-9677-cb0c00efe6ff",
     "showTitle": false,
     "title": ""
    }
   },
   "outputs": [],
   "source": [
    "evalMAE = RegressionEvaluator(\n",
    "    metricName = 'mae',\n",
    "    labelCol = 'rating',\n",
    "    predictionCol = 'prediction'\n",
    ")"
   ]
  },
  {
   "cell_type": "code",
   "execution_count": 0,
   "metadata": {
    "application/vnd.databricks.v1+cell": {
     "inputWidgets": {},
     "nuid": "4cddbd92-1c3b-4a9f-ad04-2091c71308ee",
     "showTitle": false,
     "title": ""
    }
   },
   "outputs": [],
   "source": [
    "model80 = als80.fit(train80)"
   ]
  },
  {
   "cell_type": "code",
   "execution_count": 0,
   "metadata": {
    "application/vnd.databricks.v1+cell": {
     "inputWidgets": {},
     "nuid": "d215d042-38ae-4e81-9d2c-cb168cba728c",
     "showTitle": false,
     "title": ""
    }
   },
   "outputs": [],
   "source": [
    "model80_predict = model80.transform(test20)"
   ]
  },
  {
   "cell_type": "code",
   "execution_count": 0,
   "metadata": {
    "application/vnd.databricks.v1+cell": {
     "inputWidgets": {},
     "nuid": "0dd42af4-13cb-45d9-b8bb-ba7dadaf6664",
     "showTitle": false,
     "title": ""
    }
   },
   "outputs": [
    {
     "data": {
      "text/plain": [
       "MSE: 0.9070580080987767\n"
      ]
     },
     "metadata": {
      "application/vnd.databricks.v1+output": {
       "addedWidgets": {},
       "arguments": {},
       "data": "MSE: 0.9070580080987767\n",
       "datasetInfos": [],
       "metadata": {},
       "removedWidgets": [],
       "type": "ansi"
      }
     },
     "output_type": "display_data",
     "transient": null
    }
   ],
   "source": [
    "model80_MSE = evalMSE.evaluate(model80_predict)\n",
    "print(\"MSE: \" + str(model80_MSE))"
   ]
  },
  {
   "cell_type": "code",
   "execution_count": 0,
   "metadata": {
    "application/vnd.databricks.v1+cell": {
     "inputWidgets": {},
     "nuid": "3bd5feab-6751-4bfc-8965-a86adbad66f5",
     "showTitle": false,
     "title": ""
    }
   },
   "outputs": [
    {
     "data": {
      "text/plain": [
       "RMSE: 0.952395930324556\n"
      ]
     },
     "metadata": {
      "application/vnd.databricks.v1+output": {
       "addedWidgets": {},
       "arguments": {},
       "data": "RMSE: 0.952395930324556\n",
       "datasetInfos": [],
       "metadata": {},
       "removedWidgets": [],
       "type": "ansi"
      }
     },
     "output_type": "display_data",
     "transient": null
    }
   ],
   "source": [
    "model80_RMSE = evalRMSE.evaluate(model80_predict)\n",
    "print(\"RMSE: \" + str(model80_RMSE))"
   ]
  },
  {
   "cell_type": "code",
   "execution_count": 0,
   "metadata": {
    "application/vnd.databricks.v1+cell": {
     "inputWidgets": {},
     "nuid": "9d2b560c-1ba1-447b-8de6-b7271344d89f",
     "showTitle": false,
     "title": ""
    }
   },
   "outputs": [
    {
     "data": {
      "text/plain": [
       "MAE: 0.6794477630495618\n"
      ]
     },
     "metadata": {
      "application/vnd.databricks.v1+output": {
       "addedWidgets": {},
       "arguments": {},
       "data": "MAE: 0.6794477630495618\n",
       "datasetInfos": [],
       "metadata": {},
       "removedWidgets": [],
       "type": "ansi"
      }
     },
     "output_type": "display_data",
     "transient": null
    }
   ],
   "source": [
    "model80_MAE = evalMAE.evaluate(model80_predict)\n",
    "print(\"MAE: \" + str(model80_MAE))"
   ]
  },
  {
   "cell_type": "code",
   "execution_count": 0,
   "metadata": {
    "application/vnd.databricks.v1+cell": {
     "inputWidgets": {},
     "nuid": "a0c1c83a-5491-49ae-88d3-6549b0f189a2",
     "showTitle": false,
     "title": ""
    }
   },
   "outputs": [],
   "source": [
    "model70 = als70.fit(train70)"
   ]
  },
  {
   "cell_type": "code",
   "execution_count": 0,
   "metadata": {
    "application/vnd.databricks.v1+cell": {
     "inputWidgets": {},
     "nuid": "cf2e3654-e255-42b3-8c89-1987012d5cad",
     "showTitle": false,
     "title": ""
    }
   },
   "outputs": [],
   "source": [
    "model70_predict = model70.transform(test30)"
   ]
  },
  {
   "cell_type": "code",
   "execution_count": 0,
   "metadata": {
    "application/vnd.databricks.v1+cell": {
     "inputWidgets": {},
     "nuid": "485ca45b-71db-4027-898b-7823c58974d2",
     "showTitle": false,
     "title": ""
    }
   },
   "outputs": [
    {
     "data": {
      "text/plain": [
       "MSE: 1.1996502468349568\n"
      ]
     },
     "metadata": {
      "application/vnd.databricks.v1+output": {
       "addedWidgets": {},
       "arguments": {},
       "data": "MSE: 1.1996502468349568\n",
       "datasetInfos": [],
       "metadata": {},
       "removedWidgets": [],
       "type": "ansi"
      }
     },
     "output_type": "display_data",
     "transient": null
    }
   ],
   "source": [
    "model70_MSE = evalMSE.evaluate(model70_predict)\n",
    "print(\"MSE: \" + str(model70_MSE))"
   ]
  },
  {
   "cell_type": "code",
   "execution_count": 0,
   "metadata": {
    "application/vnd.databricks.v1+cell": {
     "inputWidgets": {},
     "nuid": "fbd4d382-0c6b-4ca3-b900-e33f19958231",
     "showTitle": false,
     "title": ""
    }
   },
   "outputs": [
    {
     "data": {
      "text/plain": [
       "RMSE: 1.0952854636280702\n"
      ]
     },
     "metadata": {
      "application/vnd.databricks.v1+output": {
       "addedWidgets": {},
       "arguments": {},
       "data": "RMSE: 1.0952854636280702\n",
       "datasetInfos": [],
       "metadata": {},
       "removedWidgets": [],
       "type": "ansi"
      }
     },
     "output_type": "display_data",
     "transient": null
    }
   ],
   "source": [
    "model70_RMSE = evalRMSE.evaluate(model70_predict)\n",
    "print(\"RMSE: \" + str(model70_RMSE))"
   ]
  },
  {
   "cell_type": "code",
   "execution_count": 0,
   "metadata": {
    "application/vnd.databricks.v1+cell": {
     "inputWidgets": {},
     "nuid": "ddd1639b-cfc8-43a1-aa48-ebbb400c8e03",
     "showTitle": false,
     "title": ""
    }
   },
   "outputs": [
    {
     "data": {
      "text/plain": [
       "MAE: 0.767729618650829\n"
      ]
     },
     "metadata": {
      "application/vnd.databricks.v1+output": {
       "addedWidgets": {},
       "arguments": {},
       "data": "MAE: 0.767729618650829\n",
       "datasetInfos": [],
       "metadata": {},
       "removedWidgets": [],
       "type": "ansi"
      }
     },
     "output_type": "display_data",
     "transient": null
    }
   ],
   "source": [
    "model70_MAE = evalMAE.evaluate(model70_predict)\n",
    "print(\"MAE: \" + str(model70_MAE))"
   ]
  },
  {
   "cell_type": "markdown",
   "metadata": {
    "application/vnd.databricks.v1+cell": {
     "inputWidgets": {},
     "nuid": "43988dfc-8819-4181-ae10-4d38d6383382",
     "showTitle": false,
     "title": ""
    }
   },
   "source": [
    "Comments\n",
    "- it appears that MSE and RMSE may appear to give higher error values compared to MAE\n",
    "- for my model, I believe that higher error value can help force the model to learn better\n",
    "- Given that Mean Squared Error, by definition, focuses on the squares of the error, I believe this will help the model learn better because it will be more aware of bigger errors"
   ]
  },
  {
   "cell_type": "markdown",
   "metadata": {
    "application/vnd.databricks.v1+cell": {
     "inputWidgets": {},
     "nuid": "56888c43-54fb-4f69-aecf-726eaee2939a",
     "showTitle": false,
     "title": ""
    }
   },
   "source": [
    "# 4. Now tune your parameters"
   ]
  },
  {
   "cell_type": "code",
   "execution_count": 0,
   "metadata": {
    "application/vnd.databricks.v1+cell": {
     "inputWidgets": {},
     "nuid": "076e0cc1-9def-4983-977a-3eebbb8c6f9c",
     "showTitle": false,
     "title": ""
    }
   },
   "outputs": [],
   "source": [
    "parameters80 = ParamGridBuilder().addGrid(als80.rank, [10, 20]).addGrid(als80.maxIter, [10, 15]).addGrid(als80.regParam, [1.0, 1.5]).build()"
   ]
  },
  {
   "cell_type": "code",
   "execution_count": 0,
   "metadata": {
    "application/vnd.databricks.v1+cell": {
     "inputWidgets": {},
     "nuid": "752bd000-1478-4148-9a5e-8bff9c7afea4",
     "showTitle": false,
     "title": ""
    }
   },
   "outputs": [],
   "source": [
    "parameters70 = ParamGridBuilder().addGrid(als70.rank, [10, 15]).addGrid(als70.maxIter, [10, 15]).addGrid(als70.regParam, [1.0, 1.5]).build()"
   ]
  },
  {
   "cell_type": "code",
   "execution_count": 0,
   "metadata": {
    "application/vnd.databricks.v1+cell": {
     "inputWidgets": {},
     "nuid": "62369619-bae3-43d0-82b9-d352e08669b8",
     "showTitle": false,
     "title": ""
    }
   },
   "outputs": [],
   "source": [
    "train_vs_80 = TrainValidationSplit(\n",
    "    estimator = als80,\n",
    "    estimatorParamMaps = parameters80,\n",
    "    evaluator = evalMSE,\n",
    "    trainRatio = 0.80\n",
    ")"
   ]
  },
  {
   "cell_type": "code",
   "execution_count": 0,
   "metadata": {
    "application/vnd.databricks.v1+cell": {
     "inputWidgets": {},
     "nuid": "47ccd664-c4c7-411e-8b81-c13b5b3f57b9",
     "showTitle": false,
     "title": ""
    }
   },
   "outputs": [
    {
     "data": {
      "text/plain": [
       "/databricks/spark/python/pyspark/ml/util.py:886: UserWarning: Cannot find mlflow module. To enable MLflow logging, install mlflow from PyPI.\n",
       "  warnings.warn(_MLflowInstrumentation._NO_MLFLOW_WARNING)\n"
      ]
     },
     "metadata": {
      "application/vnd.databricks.v1+output": {
       "addedWidgets": {},
       "arguments": {},
       "data": "/databricks/spark/python/pyspark/ml/util.py:886: UserWarning: Cannot find mlflow module. To enable MLflow logging, install mlflow from PyPI.\n  warnings.warn(_MLflowInstrumentation._NO_MLFLOW_WARNING)\n",
       "datasetInfos": [],
       "metadata": {},
       "removedWidgets": [],
       "type": "ansi"
      }
     },
     "output_type": "display_data",
     "transient": null
    }
   ],
   "source": [
    "model_vs_80 = train_vs_80.fit(train80)"
   ]
  },
  {
   "cell_type": "code",
   "execution_count": 0,
   "metadata": {
    "application/vnd.databricks.v1+cell": {
     "inputWidgets": {},
     "nuid": "515a333c-d866-46da-8218-ff51a33d6deb",
     "showTitle": false,
     "title": ""
    }
   },
   "outputs": [],
   "source": [
    "model_vs_80_predict = model_vs_80.transform(test20)"
   ]
  },
  {
   "cell_type": "code",
   "execution_count": 0,
   "metadata": {
    "application/vnd.databricks.v1+cell": {
     "inputWidgets": {},
     "nuid": "49243882-e3a3-488a-8b34-86da12a91575",
     "showTitle": false,
     "title": ""
    }
   },
   "outputs": [
    {
     "data": {
      "text/plain": [
       "+-------+------+------+----------+\n",
       "|movieId|rating|userId|prediction|\n",
       "+-------+------+------+----------+\n",
       "|     11|     1|     0|0.44951472|\n",
       "|     37|     1|     0|0.39636517|\n",
       "|     41|     2|     0|0.62977797|\n",
       "|     45|     2|     0|0.41764933|\n",
       "|     67|     1|     0| 0.5325426|\n",
       "|     72|     1|     0| 0.6332112|\n",
       "|     79|     1|     0| 0.6211853|\n",
       "|     91|     3|     0| 0.5012382|\n",
       "|     95|     2|     0| 0.6103914|\n",
       "|      6|     1|     1| 0.5861582|\n",
       "|     36|     2|     1|0.61241794|\n",
       "|     37|     1|     1|0.45349327|\n",
       "|     40|     1|     1| 0.6260021|\n",
       "|     58|     1|     1|0.50948286|\n",
       "|     77|     3|     1|0.66621214|\n",
       "|     85|     3|     1| 0.7333488|\n",
       "|      8|     5|     2| 0.8475784|\n",
       "|      9|     1|     2|0.64084363|\n",
       "|     10|     1|     2|0.66800636|\n",
       "|     18|     2|     2| 1.2036242|\n",
       "+-------+------+------+----------+\n",
       "only showing top 20 rows\n",
       "\n"
      ]
     },
     "metadata": {
      "application/vnd.databricks.v1+output": {
       "addedWidgets": {},
       "arguments": {},
       "data": "+-------+------+------+----------+\n|movieId|rating|userId|prediction|\n+-------+------+------+----------+\n|     11|     1|     0|0.44951472|\n|     37|     1|     0|0.39636517|\n|     41|     2|     0|0.62977797|\n|     45|     2|     0|0.41764933|\n|     67|     1|     0| 0.5325426|\n|     72|     1|     0| 0.6332112|\n|     79|     1|     0| 0.6211853|\n|     91|     3|     0| 0.5012382|\n|     95|     2|     0| 0.6103914|\n|      6|     1|     1| 0.5861582|\n|     36|     2|     1|0.61241794|\n|     37|     1|     1|0.45349327|\n|     40|     1|     1| 0.6260021|\n|     58|     1|     1|0.50948286|\n|     77|     3|     1|0.66621214|\n|     85|     3|     1| 0.7333488|\n|      8|     5|     2| 0.8475784|\n|      9|     1|     2|0.64084363|\n|     10|     1|     2|0.66800636|\n|     18|     2|     2| 1.2036242|\n+-------+------+------+----------+\nonly showing top 20 rows\n\n",
       "datasetInfos": [],
       "metadata": {},
       "removedWidgets": [],
       "type": "ansi"
      }
     },
     "output_type": "display_data",
     "transient": null
    }
   ],
   "source": [
    "model_vs_80_predict.show()"
   ]
  },
  {
   "cell_type": "code",
   "execution_count": 0,
   "metadata": {
    "application/vnd.databricks.v1+cell": {
     "inputWidgets": {},
     "nuid": "8eb7a1f1-9af6-4760-b74b-b477c3d37d70",
     "showTitle": false,
     "title": ""
    }
   },
   "outputs": [
    {
     "data": {
      "text/plain": [
       "MSE: 2.3326100531561873\n"
      ]
     },
     "metadata": {
      "application/vnd.databricks.v1+output": {
       "addedWidgets": {},
       "arguments": {},
       "data": "MSE: 2.3326100531561873\n",
       "datasetInfos": [],
       "metadata": {},
       "removedWidgets": [],
       "type": "ansi"
      }
     },
     "output_type": "display_data",
     "transient": null
    }
   ],
   "source": [
    "model_vs_80_mse = evalMSE.evaluate(model_vs_80_predict)\n",
    "print(\"MSE: \" + str(model_vs_80_mse))"
   ]
  },
  {
   "cell_type": "code",
   "execution_count": 0,
   "metadata": {
    "application/vnd.databricks.v1+cell": {
     "inputWidgets": {},
     "nuid": "bcbd984a-e5f9-4e2f-8a9a-15b781283153",
     "showTitle": false,
     "title": ""
    }
   },
   "outputs": [],
   "source": [
    "train_vs_70 = TrainValidationSplit(\n",
    "    estimator = als80,\n",
    "    estimatorParamMaps = parameters70,\n",
    "    evaluator = evalMSE,\n",
    "    trainRatio = 0.70\n",
    ")"
   ]
  },
  {
   "cell_type": "code",
   "execution_count": 0,
   "metadata": {
    "application/vnd.databricks.v1+cell": {
     "inputWidgets": {},
     "nuid": "9512eb7f-1433-4af3-bda8-f145178b247f",
     "showTitle": false,
     "title": ""
    }
   },
   "outputs": [],
   "source": [
    "model_vs_70= train_vs_70.fit(train70)"
   ]
  },
  {
   "cell_type": "code",
   "execution_count": 0,
   "metadata": {
    "application/vnd.databricks.v1+cell": {
     "inputWidgets": {},
     "nuid": "35a8c3df-de24-45c5-959f-e8b03a7646e0",
     "showTitle": false,
     "title": ""
    }
   },
   "outputs": [],
   "source": [
    "model_vs_70_predict = model_vs_70.transform(test30)"
   ]
  },
  {
   "cell_type": "code",
   "execution_count": 0,
   "metadata": {
    "application/vnd.databricks.v1+cell": {
     "inputWidgets": {},
     "nuid": "068a6607-6c96-4452-a24b-24a36a647c82",
     "showTitle": false,
     "title": ""
    }
   },
   "outputs": [
    {
     "data": {
      "text/plain": [
       "+-------+------+------+----------+\n",
       "|movieId|rating|userId|prediction|\n",
       "+-------+------+------+----------+\n",
       "|      2|     3|     0| 2.3509216|\n",
       "|      3|     1|     0| 0.7410733|\n",
       "|      9|     4|     0| 1.1156859|\n",
       "|     23|     1|     0| 1.4717163|\n",
       "|     34|     1|     0| 1.2933617|\n",
       "|     46|     1|     0|0.82319516|\n",
       "|     50|     1|     0|0.70882714|\n",
       "|     54|     1|     0|0.79582196|\n",
       "|     64|     1|     0| 1.6857302|\n",
       "|     77|     2|     0| 1.2854252|\n",
       "|     79|     1|     0| 0.6483449|\n",
       "|     89|     2|     0| 1.0496104|\n",
       "|     95|     2|     0| 1.3385909|\n",
       "|      6|     1|     1| 1.3209406|\n",
       "|      9|     3|     1| 1.0718348|\n",
       "|     12|     1|     1|  1.747317|\n",
       "|     16|     1|     1| 1.3057064|\n",
       "|     27|     1|     1|0.76152515|\n",
       "|     37|     1|     1|0.97160965|\n",
       "|     40|     1|     1| 1.3709108|\n",
       "+-------+------+------+----------+\n",
       "only showing top 20 rows\n",
       "\n"
      ]
     },
     "metadata": {
      "application/vnd.databricks.v1+output": {
       "addedWidgets": {},
       "arguments": {},
       "data": "+-------+------+------+----------+\n|movieId|rating|userId|prediction|\n+-------+------+------+----------+\n|      2|     3|     0| 2.3509216|\n|      3|     1|     0| 0.7410733|\n|      9|     4|     0| 1.1156859|\n|     23|     1|     0| 1.4717163|\n|     34|     1|     0| 1.2933617|\n|     46|     1|     0|0.82319516|\n|     50|     1|     0|0.70882714|\n|     54|     1|     0|0.79582196|\n|     64|     1|     0| 1.6857302|\n|     77|     2|     0| 1.2854252|\n|     79|     1|     0| 0.6483449|\n|     89|     2|     0| 1.0496104|\n|     95|     2|     0| 1.3385909|\n|      6|     1|     1| 1.3209406|\n|      9|     3|     1| 1.0718348|\n|     12|     1|     1|  1.747317|\n|     16|     1|     1| 1.3057064|\n|     27|     1|     1|0.76152515|\n|     37|     1|     1|0.97160965|\n|     40|     1|     1| 1.3709108|\n+-------+------+------+----------+\nonly showing top 20 rows\n\n",
       "datasetInfos": [],
       "metadata": {},
       "removedWidgets": [],
       "type": "ansi"
      }
     },
     "output_type": "display_data",
     "transient": null
    }
   ],
   "source": [
    "model_vs_70_predict.show()"
   ]
  },
  {
   "cell_type": "code",
   "execution_count": 0,
   "metadata": {
    "application/vnd.databricks.v1+cell": {
     "inputWidgets": {},
     "nuid": "249000a3-3cd4-4a36-a41b-dc18bb8742e5",
     "showTitle": false,
     "title": ""
    }
   },
   "outputs": [
    {
     "data": {
      "text/plain": [
       "MSE: 1.1996502468349568\n"
      ]
     },
     "metadata": {
      "application/vnd.databricks.v1+output": {
       "addedWidgets": {},
       "arguments": {},
       "data": "MSE: 1.1996502468349568\n",
       "datasetInfos": [],
       "metadata": {},
       "removedWidgets": [],
       "type": "ansi"
      }
     },
     "output_type": "display_data",
     "transient": null
    }
   ],
   "source": [
    "model_vs_70_mse = evalMSE.evaluate(model_vs_70_predict)\n",
    "print(\"MSE: \" + str(model_vs_70_mse))"
   ]
  },
  {
   "cell_type": "markdown",
   "metadata": {
    "application/vnd.databricks.v1+cell": {
     "inputWidgets": {},
     "nuid": "943de354-aaee-4cb2-a045-18aa63da81a6",
     "showTitle": false,
     "title": ""
    }
   },
   "source": [
    "Comments\n",
    "- given the lwoer MSE, I'll take the cross/val with model70"
   ]
  },
  {
   "cell_type": "markdown",
   "metadata": {
    "application/vnd.databricks.v1+cell": {
     "inputWidgets": {},
     "nuid": "69814f00-bbab-4a2d-935c-18671488f6a6",
     "showTitle": false,
     "title": ""
    }
   },
   "source": [
    "## Calculate top 10 movie recommendations for user id 10 and user id 14"
   ]
  },
  {
   "cell_type": "code",
   "execution_count": 0,
   "metadata": {
    "application/vnd.databricks.v1+cell": {
     "inputWidgets": {},
     "nuid": "146f669b-f4a9-4f1d-88f5-31eab9cfb6c2",
     "showTitle": false,
     "title": ""
    }
   },
   "outputs": [],
   "source": [
    "model70_fit = als70.fit(train70)"
   ]
  },
  {
   "cell_type": "code",
   "execution_count": 0,
   "metadata": {
    "application/vnd.databricks.v1+cell": {
     "inputWidgets": {},
     "nuid": "1aa06d1c-60a5-4591-8abf-cc91aebefaee",
     "showTitle": false,
     "title": ""
    }
   },
   "outputs": [],
   "source": [
    "user_id = [10,14]\n",
    "\n",
    "user_recs = model70_fit.recommendForAllUsers(10)"
   ]
  },
  {
   "cell_type": "code",
   "execution_count": 0,
   "metadata": {
    "application/vnd.databricks.v1+cell": {
     "inputWidgets": {},
     "nuid": "81356289-5fb2-40a6-90e1-756f4626555f",
     "showTitle": false,
     "title": ""
    }
   },
   "outputs": [
    {
     "data": {
      "text/plain": [
       "+------+--------------------+\n",
       "|userId|     recommendations|\n",
       "+------+--------------------+\n",
       "|    20|[{22, 3.9619672},...|\n",
       "|    10|[{92, 3.4845748},...|\n",
       "|     0|[{92, 3.0957658},...|\n",
       "|     1|[{62, 2.944469}, ...|\n",
       "|    21|[{53, 4.258135}, ...|\n",
       "|    11|[{30, 4.729922}, ...|\n",
       "|    12|[{55, 4.486953}, ...|\n",
       "|    22|[{51, 4.6741242},...|\n",
       "|     2|[{8, 4.508601}, {...|\n",
       "|    13|[{93, 2.9906147},...|\n",
       "|     3|[{74, 4.1736736},...|\n",
       "|    23|[{55, 4.721018}, ...|\n",
       "|     4|[{52, 3.254}, {93...|\n",
       "|    24|[{52, 4.305026}, ...|\n",
       "|    14|[{52, 4.658917}, ...|\n",
       "|     5|[{55, 4.317712}, ...|\n",
       "|    15|[{1, 2.989226}, {...|\n",
       "|    25|[{83, 3.1389313},...|\n",
       "|    26|[{22, 4.7505665},...|\n",
       "|     6|[{25, 3.7450128},...|\n",
       "+------+--------------------+\n",
       "only showing top 20 rows\n",
       "\n"
      ]
     },
     "metadata": {
      "application/vnd.databricks.v1+output": {
       "addedWidgets": {},
       "arguments": {},
       "data": "+------+--------------------+\n|userId|     recommendations|\n+------+--------------------+\n|    20|[{22, 3.9619672},...|\n|    10|[{92, 3.4845748},...|\n|     0|[{92, 3.0957658},...|\n|     1|[{62, 2.944469}, ...|\n|    21|[{53, 4.258135}, ...|\n|    11|[{30, 4.729922}, ...|\n|    12|[{55, 4.486953}, ...|\n|    22|[{51, 4.6741242},...|\n|     2|[{8, 4.508601}, {...|\n|    13|[{93, 2.9906147},...|\n|     3|[{74, 4.1736736},...|\n|    23|[{55, 4.721018}, ...|\n|     4|[{52, 3.254}, {93...|\n|    24|[{52, 4.305026}, ...|\n|    14|[{52, 4.658917}, ...|\n|     5|[{55, 4.317712}, ...|\n|    15|[{1, 2.989226}, {...|\n|    25|[{83, 3.1389313},...|\n|    26|[{22, 4.7505665},...|\n|     6|[{25, 3.7450128},...|\n+------+--------------------+\nonly showing top 20 rows\n\n",
       "datasetInfos": [],
       "metadata": {},
       "removedWidgets": [],
       "type": "ansi"
      }
     },
     "output_type": "display_data",
     "transient": null
    }
   ],
   "source": [
    "user_recs.show()"
   ]
  },
  {
   "cell_type": "code",
   "execution_count": 0,
   "metadata": {
    "application/vnd.databricks.v1+cell": {
     "inputWidgets": {},
     "nuid": "9232000d-3cf4-4019-ac0f-5838220c5070",
     "showTitle": false,
     "title": ""
    }
   },
   "outputs": [],
   "source": [
    "user10 = user_recs.filter(pyspark.sql.functions.col('userID') == 10)"
   ]
  },
  {
   "cell_type": "code",
   "execution_count": 0,
   "metadata": {
    "application/vnd.databricks.v1+cell": {
     "inputWidgets": {},
     "nuid": "a5236c8b-00f5-43d3-baf0-dc7810fd2a5d",
     "showTitle": false,
     "title": ""
    }
   },
   "outputs": [
    {
     "data": {
      "text/plain": [
       "+------+-------------------------------------------------------------------------------------------------------------------------------------------------------------------+\n",
       "|userId|recommendations                                                                                                                                                    |\n",
       "+------+-------------------------------------------------------------------------------------------------------------------------------------------------------------------+\n",
       "|10    |[{92, 3.4845748}, {2, 3.40339}, {40, 3.0196204}, {49, 2.843896}, {25, 2.7876694}, {12, 2.6423554}, {82, 2.533945}, {42, 2.5034366}, {4, 2.4133816}, {0, 2.2084932}]|\n",
       "+------+-------------------------------------------------------------------------------------------------------------------------------------------------------------------+\n",
       "\n"
      ]
     },
     "metadata": {
      "application/vnd.databricks.v1+output": {
       "addedWidgets": {},
       "arguments": {},
       "data": "+------+-------------------------------------------------------------------------------------------------------------------------------------------------------------------+\n|userId|recommendations                                                                                                                                                    |\n+------+-------------------------------------------------------------------------------------------------------------------------------------------------------------------+\n|10    |[{92, 3.4845748}, {2, 3.40339}, {40, 3.0196204}, {49, 2.843896}, {25, 2.7876694}, {12, 2.6423554}, {82, 2.533945}, {42, 2.5034366}, {4, 2.4133816}, {0, 2.2084932}]|\n+------+-------------------------------------------------------------------------------------------------------------------------------------------------------------------+\n\n",
       "datasetInfos": [],
       "metadata": {},
       "removedWidgets": [],
       "type": "ansi"
      }
     },
     "output_type": "display_data",
     "transient": null
    }
   ],
   "source": [
    "user10.show(truncate = False)"
   ]
  },
  {
   "cell_type": "markdown",
   "metadata": {
    "application/vnd.databricks.v1+cell": {
     "inputWidgets": {},
     "nuid": "7bac1976-4162-4439-8851-83a5bd9f6ccc",
     "showTitle": false,
     "title": ""
    }
   },
   "source": [
    "comments\n",
    "- User 10 recommendations are movies 81, 49, 92, 12, 89, 2, 82, 91, 46, and 41"
   ]
  },
  {
   "cell_type": "code",
   "execution_count": 0,
   "metadata": {
    "application/vnd.databricks.v1+cell": {
     "inputWidgets": {},
     "nuid": "901be79a-f05c-4571-99c1-59230b39558e",
     "showTitle": false,
     "title": ""
    }
   },
   "outputs": [
    {
     "data": {
      "text/plain": [
       "+------+----------------------------------------------------------------------------------------------------------------------------------------------------------------------+\n",
       "|userId|recommendations                                                                                                                                                       |\n",
       "+------+----------------------------------------------------------------------------------------------------------------------------------------------------------------------+\n",
       "|14    |[{52, 4.658917}, {76, 4.2332625}, {63, 4.222856}, {25, 3.8376257}, {72, 3.6222825}, {85, 3.4765825}, {62, 3.4649746}, {58, 3.450089}, {96, 3.217226}, {53, 2.9577112}]|\n",
       "+------+----------------------------------------------------------------------------------------------------------------------------------------------------------------------+\n",
       "\n"
      ]
     },
     "metadata": {
      "application/vnd.databricks.v1+output": {
       "addedWidgets": {},
       "arguments": {},
       "data": "+------+----------------------------------------------------------------------------------------------------------------------------------------------------------------------+\n|userId|recommendations                                                                                                                                                       |\n+------+----------------------------------------------------------------------------------------------------------------------------------------------------------------------+\n|14    |[{52, 4.658917}, {76, 4.2332625}, {63, 4.222856}, {25, 3.8376257}, {72, 3.6222825}, {85, 3.4765825}, {62, 3.4649746}, {58, 3.450089}, {96, 3.217226}, {53, 2.9577112}]|\n+------+----------------------------------------------------------------------------------------------------------------------------------------------------------------------+\n\n",
       "datasetInfos": [],
       "metadata": {},
       "removedWidgets": [],
       "type": "ansi"
      }
     },
     "output_type": "display_data",
     "transient": null
    }
   ],
   "source": [
    "user14 = user_recs.filter(pyspark.sql.functions.col('userID') == 14)\n",
    "user14.show(truncate = False)"
   ]
  },
  {
   "cell_type": "markdown",
   "metadata": {
    "application/vnd.databricks.v1+cell": {
     "inputWidgets": {},
     "nuid": "eb8d44c4-8588-44a9-bb80-ad845e6e79cc",
     "showTitle": false,
     "title": ""
    }
   },
   "source": [
    "Comments\n",
    "- User 14 recommendations are movies 52, 29, 63, 76, 53, 85, 72, 25, 62, and 41"
   ]
  },
  {
   "cell_type": "markdown",
   "metadata": {
    "application/vnd.databricks.v1+cell": {
     "inputWidgets": {},
     "nuid": "23ff6ea5-4d1a-44cf-b0c9-88ae8f2f8c95",
     "showTitle": false,
     "title": ""
    }
   },
   "source": [
    "Other comments\n",
    "- I understand that I did not have the most diverse parameter grid, but in the interest of time, I had to cut it down to a small size like this\n",
    "- If I had the time, I would've done parameter grids such as [5, 10, 15, 20] or [0.5, 1.0, 1.5, 2.0]"
   ]
  }
 ],
 "metadata": {
  "application/vnd.databricks.v1+notebook": {
   "dashboards": [],
   "language": "python",
   "notebookMetadata": {
    "pythonIndentUnit": 4
   },
   "notebookName": "APS1052_Assignment2_notebook",
   "notebookOrigID": 2031640233479279,
   "widgets": {}
  }
 },
 "nbformat": 4,
 "nbformat_minor": 0
}
